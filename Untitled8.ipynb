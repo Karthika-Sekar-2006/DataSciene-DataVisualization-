{
  "nbformat": 4,
  "nbformat_minor": 0,
  "metadata": {
    "colab": {
      "provenance": [],
      "authorship_tag": "ABX9TyPgKLPvcOY8tMconcIGI9k8",
      "include_colab_link": true
    },
    "kernelspec": {
      "name": "python3",
      "display_name": "Python 3"
    },
    "language_info": {
      "name": "python"
    }
  },
  "cells": [
    {
      "cell_type": "markdown",
      "metadata": {
        "id": "view-in-github",
        "colab_type": "text"
      },
      "source": [
        "<a href=\"https://colab.research.google.com/github/Karthika-Sekar-2006/DataSciene-DataVisualization-/blob/main/Untitled8.ipynb\" target=\"_parent\"><img src=\"https://colab.research.google.com/assets/colab-badge.svg\" alt=\"Open In Colab\"/></a>"
      ]
    },
    {
      "cell_type": "code",
      "execution_count": 1,
      "metadata": {
        "colab": {
          "base_uri": "https://localhost:8080/"
        },
        "id": "DsGskLN-Db24",
        "outputId": "98167627-3eb1-476e-ce0f-44b8632f0950"
      },
      "outputs": [
        {
          "output_type": "stream",
          "name": "stderr",
          "text": [
            "[nltk_data] Downloading package vader_lexicon to /root/nltk_data...\n"
          ]
        },
        {
          "name": "stdout",
          "output_type": "stream",
          "text": [
            "Enter a sentence with emojis (or type 'exit' to quit): i built my new house\n",
            "\n",
            "Your Input: i built my new house\n",
            "Sentiment: Neutral\n",
            "Score Details: {'neg': 0.0, 'neu': 1.0, 'pos': 0.0, 'compound': 0.0}\n",
            "----------------------------------------\n",
            "Enter a sentence with emojis (or type 'exit' to quit): i got good marks\n",
            "\n",
            "Your Input: i got good marks\n",
            "Sentiment: Positive\n",
            "Score Details: {'neg': 0.0, 'neu': 0.408, 'pos': 0.592, 'compound': 0.4404}\n",
            "----------------------------------------\n",
            "Enter a sentence with emojis (or type 'exit' to quit): i sick\n",
            "\n",
            "Your Input: i sick\n",
            "Sentiment: Negative\n",
            "Score Details: {'neg': 1.0, 'neu': 0.0, 'pos': 0.0, 'compound': -0.5106}\n",
            "----------------------------------------\n",
            "Enter a sentence with emojis (or type 'exit' to quit): exit\n"
          ]
        }
      ],
      "source": [
        "import nltk\n",
        "from nltk.sentiment.vader import SentimentIntensityAnalyzer\n",
        "\n",
        "nltk.download('vader_lexicon')\n",
        "\n",
        "analyzer = SentimentIntensityAnalyzer()\n",
        "\n",
        "while True:\n",
        "    text = input(\"Enter a sentence with emojis (or type 'exit' to quit): \")\n",
        "    if text.lower() == 'exit':\n",
        "        break\n",
        "\n",
        "    scores = analyzer.polarity_scores(text)\n",
        "    compound = scores['compound']\n",
        "\n",
        "    if compound >= 0.05:\n",
        "        sentiment = \"Positive\"\n",
        "    elif compound <= -0.05:\n",
        "        sentiment = \"Negative\"\n",
        "    else:\n",
        "        sentiment = \"Neutral\"\n",
        "\n",
        "    print(f\"\\nYour Input: {text}\")\n",
        "    print(f\"Sentiment: {sentiment}\")\n",
        "    print(\"Score Details:\", scores)\n",
        "    print(\"-\" * 40)\n",
        "\n",
        "\n"
      ]
    }
  ]
}